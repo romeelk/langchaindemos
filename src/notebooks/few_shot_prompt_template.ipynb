{
 "cells": [
  {
   "cell_type": "code",
   "execution_count": 1,
   "metadata": {},
   "outputs": [
    {
     "name": "stdout",
     "output_type": "stream",
     "text": [
      "Human: Australia\n",
      "AI: continent\n",
      "Human: North America\n",
      "AI: continent\n",
      "Human: India\n",
      "AI: sub-continent\n",
      "Human: Madagascar\n",
      "AI: island\n"
     ]
    },
    {
     "data": {
      "text/plain": [
       "'No, Indonesia is not a continent. It is an archipelago nation made up of over 17,000 islands located primarily in Southeast Asia and Oceania. The country is situated between the Indian and Pacific Oceans and is known for its diverse cultures and ecosystems. The landmass of Indonesia is part of the larger continental landmasses of Asia and Australia but does not constitute a separate continent itself.'"
      ]
     },
     "execution_count": 1,
     "metadata": {},
     "output_type": "execute_result"
    }
   ],
   "source": [
    "from langchain_core.prompts import (\n",
    "    ChatPromptTemplate,\n",
    "    FewShotChatMessagePromptTemplate,\n",
    ")\n",
    "import getpass\n",
    "import os\n",
    "from langchain_openai import ChatOpenAI\n",
    "from langchain_core.prompts import (\n",
    "     ChatPromptTemplate\n",
    ")\n",
    "from langchain_core.output_parsers import StrOutputParser\n",
    "\n",
    "os.environ[\"OPENAI_API_KEY\"] = getpass.getpass(prompt=\"Enter OpenApi key:\")\n",
    "llm = ChatOpenAI(model=\"gpt-4o-mini\",temperature=0.9)\n",
    "# Few shot prompting - guide the LLM through in context learning\n",
    "# via providing demonstrations in the prompt to steer the model \n",
    "\n",
    "examples = [\n",
    "    {\"input\": \"Australia\", \"output\": \"continent\"},\n",
    "    {\"input\": \"North America\", \"output\": \"continent\"},\n",
    "    {\"input\":\"India\",\"output\": \"sub-continent\"},\n",
    "    {\"input\":\"Madagascar\",\"output\":\"island\"}\n",
    "]\n",
    "# This is a prompt template used to format each individual example.\n",
    "example_prompt = ChatPromptTemplate.from_messages(\n",
    "    [\n",
    "        (\"human\", \"{input}\"),\n",
    "        (\"ai\", \"{output}\"),\n",
    "    ]\n",
    ")\n",
    "few_shot_prompt = FewShotChatMessagePromptTemplate(\n",
    "    example_prompt=example_prompt,\n",
    "    examples=examples,\n",
    ")\n",
    "print(few_shot_prompt.format())\n",
    "\n",
    "final_prompt = ChatPromptTemplate.from_messages(\n",
    "    [\n",
    "        (\"system\", \"You are great geographer.\"),\n",
    "        few_shot_prompt,\n",
    "        (\"human\", \"{input}\"),\n",
    "    ]\n",
    ")\n",
    "chain =  final_prompt | llm | StrOutputParser()\n",
    "\n",
    "chain.invoke({\"input\":\"Is indonesia a continent?\"})"
   ]
  }
 ],
 "metadata": {
  "kernelspec": {
   "display_name": ".venv",
   "language": "python",
   "name": "python3"
  },
  "language_info": {
   "codemirror_mode": {
    "name": "ipython",
    "version": 3
   },
   "file_extension": ".py",
   "mimetype": "text/x-python",
   "name": "python",
   "nbconvert_exporter": "python",
   "pygments_lexer": "ipython3",
   "version": "3.11.9"
  }
 },
 "nbformat": 4,
 "nbformat_minor": 2
}
