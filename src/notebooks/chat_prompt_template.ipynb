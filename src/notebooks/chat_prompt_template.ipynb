{
 "cells": [
  {
   "cell_type": "code",
   "execution_count": 2,
   "metadata": {},
   "outputs": [
    {
     "name": "stdout",
     "output_type": "stream",
     "text": [
      "langchain chat message template example\n",
      "Cricket is a bat-and-ball game played between two teams, usually consisting of eleven players each. The game originated in England and has grown to be popular in many countries, particularly in South Asia, Australia, England, and the Caribbean. Here are some key aspects of the game:\n",
      "\n",
      "### Basic Structure\n",
      "- **Field**: Cricket is played on a circular or oval-shaped field with a 22-yard-long pitch at the center.\n",
      "- **Teams**: Each team has 11 players, including batsmen, bowlers, and fielders.\n",
      "- **Innings**: Each team typically has one or two innings, depending on the format of the game. An innings is the period in which one team bats and attempts to score runs while the other bowls and fields.\n",
      "\n",
      "### Formats\n",
      "Cricket is played in various formats, including:\n",
      "- **Test Cricket**: The traditional format, lasting up to five days with two innings per team. It allows for a more strategic and tactical game.\n",
      "- **One Day Internationals (ODIs)**: Each team faces a fixed number of overs, typically 50. This format is shorter than Test matches and is completed in one day.\n",
      "- **Twenty20 (T20)**: A much shorter format where each team plays 20 overs. This format is popular for its fast pace and entertainment value.\n",
      "\n",
      "### Key Rules\n",
      "- **Batting**: The batting team tries to score runs by hitting the ball and running between the wickets or by hitting the ball to the boundary (four runs if it hits the ground before crossing the boundary; six runs if it crosses without touching the ground).\n",
      "- **Bowling**: The bowling team aims to get the batsmen out through various methods, including bowling them out (hitting the wicket), catching the ball after a hit but before it touches the ground, or running them out.\n",
      "- **Fielding**: Fielders support bowlers in preventing runs and catching the ball.\n",
      "\n",
      "### Competitions\n",
      "Cricket has several prestigious competitions, including:\n",
      "- The ICC Cricket World Cup (ODI)\n",
      "- The T20 World Cup\n",
      "- The Ashes series between England and Australia\n",
      "- Various domestic leagues, such as the Indian Premier League (IPL).\n",
      "\n",
      "### Governing Bodies\n",
      "The International Cricket Council (ICC) is the global governing body for cricket, overseeing international matches and tournaments.\n",
      "\n",
      "Cricket is not only a game but also a significant cultural aspect in many countries, often referred to as a religion among its passionate fans.\n",
      "Football, known as soccer in some countries, is a team sport played between two teams of eleven players each. It is one of the most popular sports globally and is governed by the Fédération Internationale de Football Association (FIFA).\n",
      "\n",
      "### Basic Rules:\n",
      "1. **Objective**: The main goal of the game is to score more goals than the opposing team by getting the ball into their goal.\n",
      "2. **Duration**: A standard match consists of two halves, each lasting 45 minutes, with a halftime break in between.\n",
      "3. **Field**: The game is played on a rectangular field with a goal at each end.\n",
      "4. **Offside Rule**: Players must not be in an offside position when the ball is played to them.\n",
      "5. **Fouls**: Physical contact can lead to fouls, and serious infractions may result in free kicks, penalty kicks, or yellow/red cards.\n",
      "\n",
      "### Major Competitions:\n",
      "- **FIFA World Cup**: The most prestigious tournament, held every four years.\n",
      "- **UEFA Champions League**: A major club tournament in Europe.\n",
      "- **Continental Championships**: Such as the Copa America, UEFA European Championship, and Africa Cup of Nations.\n",
      "\n",
      "### Popular Leagues:\n",
      "- **Premier League** (England)\n",
      "- **La Liga** (Spain)\n",
      "- **Bundesliga** (Germany)\n",
      "- **Serie A** (Italy)\n",
      "- **MLS** (Major League Soccer, USA)\n",
      "\n",
      "### Culture and Impact:\n",
      "Football has a significant cultural influence worldwide. It fosters community, national pride, and global connections among fans. Iconic players like Pelé, Diego Maradona, Lionel Messi, and Cristiano Ronaldo have become legends and ambassadors of the sport.\n",
      "\n",
      "If you want to know more about a specific aspect, feel free to ask!\n"
     ]
    }
   ],
   "source": [
    "from langchain_core.prompts import ChatPromptTemplate\n",
    "import os\n",
    "from langchain_openai import ChatOpenAI\n",
    "import getpass \n",
    "\n",
    "os.environ[\"OPENAI_API_KEY\"] = getpass.getpass(prompt=\"Enter OpenApi key:\")\n",
    "llm = ChatOpenAI(model=\"gpt-4o-mini\",temperature=0.9)\n",
    "print(\"langchain chat message template example\")\n",
    "\n",
    "prompt = ChatPromptTemplate.from_messages(\n",
    "    [\n",
    "        (\"system\", \"You are a helpful AI bot. Your name is {name}.\"),\n",
    "        (\"human\", \"Hello, how are you doing?\"),\n",
    "        (\"ai\", \"I'm doing well, thanks!\"),\n",
    "        (\"human\", \"{user_input}\"),\n",
    "    ]\n",
    ")\n",
    "\n",
    "response = llm.invoke(prompt.format_messages(user_input=\"Tell me about cricket?\",name=\"Tom\"))\n",
    "print(response.content)\n",
    "response = llm.invoke(prompt.format_messages(user_input=\"Tell me about football?\",name=\"Tom\"))\n",
    "print(response.content)"
   ]
  }
 ],
 "metadata": {
  "kernelspec": {
   "display_name": ".venv",
   "language": "python",
   "name": "python3"
  },
  "language_info": {
   "codemirror_mode": {
    "name": "ipython",
    "version": 3
   },
   "file_extension": ".py",
   "mimetype": "text/x-python",
   "name": "python",
   "nbconvert_exporter": "python",
   "pygments_lexer": "ipython3",
   "version": "3.12.4"
  }
 },
 "nbformat": 4,
 "nbformat_minor": 2
}
