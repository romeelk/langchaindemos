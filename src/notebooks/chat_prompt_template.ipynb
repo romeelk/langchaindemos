{
 "cells": [
  {
   "cell_type": "code",
   "execution_count": 5,
   "metadata": {},
   "outputs": [
    {
     "name": "stdout",
     "output_type": "stream",
     "text": [
      "langchain chat message template example\n",
      "Cricket is a bat-and-ball game played between two teams, each consisting of eleven players. It is popular in many countries, especially in England, Australia, India, Pakistan, South Africa, and the West Indies. Here are some key aspects of the game:\n",
      "\n",
      "### Basic Structure:\n",
      "- **Field:** Cricket is played on a large circular or oval field with a rectangular 22-yard-long pitch at the center.\n",
      "- **Innings:** Each team has a turn to bat and a turn to bowl/field. An innings ends when ten batsmen are out or a predetermined number of overs has been bowled.\n",
      "- **Overs:** An over consists of six legal deliveries bowled by a bowler. \n",
      "\n",
      "### Roles:\n",
      "- **Batsmen:** The primary objective of the batsmen is to score runs. They do this by hitting the ball and running between two sets of wickets (three wooden stumps topped by two bails).\n",
      "- **Bowlers:** The bowlers aim to dismiss batsmen by getting them out in various ways (e.g., bowled, caught, LBW, etc.) and restricting runs.\n",
      "- **Fielders:** The fielding team supports the bowler by trying to catch the ball, stop runs, and dismiss batsmen.\n",
      "\n",
      "### Formats:\n",
      "Cricket has several formats, which vary in length and rules:\n",
      "- **Test Cricket:** The longest format, played over five days with each team batting twice. It is considered the highest standard of the game.\n",
      "- **One Day Internationals (ODIs):** Each team bats for a fixed number of overs, usually 50. The match typically lasts around 8 hours.\n",
      "- **Twenty20 (T20):** A shorter format where each team bats for 20 overs. These matches usually last about 3 hours and are designed for a quick and entertaining experience.\n",
      "\n",
      "### Key Competitions:\n",
      "- **ICC Cricket World Cup:** The premier championship of One Day International cricket.\n",
      "- **ICC T20 World Cup:** The championship for the T20 format.\n",
      "- **The Ashes:** A famous Test series played between England and Australia.\n",
      "\n",
      "### Popularity and Culture:\n",
      "Cricket has a rich history and is often regarded as a religion in countries like India and Pakistan. It fosters a strong sense of national pride and community among fans. The sport has evolved over centuries and continues to attract a global audience through international tournaments and leagues, such as the Indian Premier League (IPL).\n",
      "\n",
      "If you have any specific questions about cricket, feel free to ask!\n",
      "Football, known as soccer in some countries, is a team sport played between two teams, usually consisting of eleven players each. The objective of the game is to score goals by getting a ball into the opposing team's net. The game is played on a rectangular field with a goal at each end.\n",
      "\n",
      "Here are some key points about football:\n",
      "\n",
      "1. **History**: The modern form of football emerged in the 19th century in England, but various versions of similar games have been played for centuries.\n",
      "\n",
      "2. **Governing Body**: FIFA (Fédération Internationale de Football Association) is the international governing body for football, responsible for organizing major tournaments such as the FIFA World Cup.\n",
      "\n",
      "3. **Major Competitions**:\n",
      "   - **FIFA World Cup**: Held every four years, it's the most prestigious tournament in international football.\n",
      "   - **UEFA Champions League**: A prestigious club competition in Europe.\n",
      "   - **Domestic Leagues**: Various countries have their own leagues, such as the Premier League in England, La Liga in Spain, and Serie A in Italy.\n",
      "\n",
      "4. **Positions**: Players typically occupy different positions, including forwards, midfielders, defenders, and a goalkeeper. Each position has specific roles and responsibilities on the field.\n",
      "\n",
      "5. **Rules**: The Laws of the Game, maintained by the International Football Association Board (IFAB), govern how football is played. Key rules include offside, fouls, and the use of yellow and red cards for disciplinary actions.\n",
      "\n",
      "6. **Popularity**: Football is one of the most popular sports worldwide, with millions of fans and players across all continents. It has a significant cultural impact and is often seen as a unifying force.\n",
      "\n",
      "7. **Development**: Football has various levels of play, from amateur to professional, and there are youth leagues aimed at developing young talent.\n",
      "\n",
      "Whether you're interested in playing, watching, or discussing football, there's always something exciting happening in the world of this beloved sport!\n"
     ]
    }
   ],
   "source": [
    "from langchain_core.prompts import ChatPromptTemplate\n",
    "import os\n",
    "from langchain_openai import ChatOpenAI\n",
    "import getpass \n",
    "\n",
    "os.environ[\"OPENAI_API_KEY\"] = getpass.getpass(prompt=\"Enter OpenApi key:\")\n",
    "llm = ChatOpenAI(model=\"gpt-4o-mini\",temperature=0.9)\n",
    "print(\"langchain chat message template example\")\n",
    "\n",
    "prompt = ChatPromptTemplate.from_messages(\n",
    "    [\n",
    "        (\"system\", \"You are a helpful AI bot. Your name is {name}.\"),\n",
    "        (\"human\", \"Hello, how are you doing?\"),\n",
    "        (\"ai\", \"I'm doing well, thanks!\"),\n",
    "        (\"human\", \"{user_input}\"),\n",
    "    ]\n",
    ")\n",
    "\n",
    "response = llm.invoke(prompt.format_messages(user_input=\"Tell me about cricket?\",name=\"Tom\"))\n",
    "print(response.content)\n",
    "response = llm.invoke(prompt.format_messages(user_input=\"Tell me about football?\",name=\"Tom\"))\n",
    "print(response.content)"
   ]
  }
 ],
 "metadata": {
  "kernelspec": {
   "display_name": ".venv",
   "language": "python",
   "name": "python3"
  },
  "language_info": {
   "codemirror_mode": {
    "name": "ipython",
    "version": 3
   },
   "file_extension": ".py",
   "mimetype": "text/x-python",
   "name": "python",
   "nbconvert_exporter": "python",
   "pygments_lexer": "ipython3",
   "version": "3.12.4"
  }
 },
 "nbformat": 4,
 "nbformat_minor": 2
}
