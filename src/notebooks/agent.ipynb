{
 "cells": [
  {
   "cell_type": "code",
   "execution_count": 4,
   "metadata": {},
   "outputs": [
    {
     "name": "stdout",
     "output_type": "stream",
     "text": [
      "Agent example\n",
      "Page: LangChain\n",
      "Summary: LangChain is a software framework that helps facilitate the integration of \n",
      "In London,GB, the current weather is as follows:\n",
      "Detailed status: scattered clouds\n",
      "Wind speed: 3.6 m/s, direction: 190°\n",
      "Humidity: 73%\n",
      "Temperature: \n",
      "  - Current: 16.05°C\n",
      "  - High: 17.1°C\n",
      "  - Low: 14.82°C\n",
      "  - Feels like: 15.62°C\n",
      "Rain: {}\n",
      "Heat index: None\n",
      "Cloud cover: 40%\n"
     ]
    }
   ],
   "source": [
    "import getpass\n",
    "import os\n",
    "from langchain_community.tools import WikipediaQueryRun\n",
    "from langchain_community.utilities import OpenWeatherMapAPIWrapper\n",
    "from langchain_community.utilities import WikipediaAPIWrapper\n",
    "\n",
    "\n",
    "os.environ[\"OPENWEATHERMAP_API_KEY\"] = getpass.getpass(prompt=\"Enter WEATHER key:\")\n",
    "\n",
    "print(\"Agent example\")\n",
    "\n",
    "api_wrapper = WikipediaAPIWrapper(top_k_results=1, doc_content_chars_max=100)\n",
    "tool = WikipediaQueryRun(api_wrapper=api_wrapper)\n",
    "\n",
    "print(tool.invoke({\"query\": \"langchain\"}))\n",
    "\n",
    "weather_tool = OpenWeatherMapAPIWrapper()\n",
    "weather_data = weather_tool.run(\"London,GB\")\n",
    "print(weather_data)\n"
   ]
  }
 ],
 "metadata": {
  "kernelspec": {
   "display_name": ".venv",
   "language": "python",
   "name": "python3"
  },
  "language_info": {
   "codemirror_mode": {
    "name": "ipython",
    "version": 3
   },
   "file_extension": ".py",
   "mimetype": "text/x-python",
   "name": "python",
   "nbconvert_exporter": "python",
   "pygments_lexer": "ipython3",
   "version": "3.12.4"
  }
 },
 "nbformat": 4,
 "nbformat_minor": 2
}
