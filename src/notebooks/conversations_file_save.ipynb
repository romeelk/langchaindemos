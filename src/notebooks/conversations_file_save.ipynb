{
 "cells": [
  {
   "cell_type": "code",
   "execution_count": null,
   "metadata": {},
   "outputs": [],
   "source": [
    "import sys\n",
    "from langchain.memory import ConversationBufferMemory, FileChatMessageHistory\n",
    "from langchain_openai import ChatOpenAI\n",
    "from langchain_core.prompts import (\n",
    "    ChatPromptTemplate\n",
    ")\n",
    "from langchain import LLMChain\n",
    "from langchain.prompts import MessagesPlaceholder, HumanMessagePromptTemplate\n",
    "import os\n",
    "import getpass\n",
    "os.environ[\"OPENAI_API_KEY\"] = getpass.getpass(prompt=\"Enter OpenApi key:\")\n",
    "\n",
    "llm = ChatOpenAI(model=\"gpt-4o-mini\")\n",
    "memory = ConversationBufferMemory(chat_memory=FileChatMessageHistory(\"chat_history.json\"),memory_key=\"messages\",return_messages=True)\n",
    "prompt = ChatPromptTemplate(\n",
    "    input_variables=[\"content\",\"messages\"],\n",
    "    messages=[\n",
    "        MessagesPlaceholder(variable_name=\"messages\"),\n",
    "        HumanMessagePromptTemplate.from_template(\"{content}\")])\n",
    "\n",
    "\n",
    "chain = LLMChain(llm=llm,prompt=prompt,memory=memory)\n",
    "\n",
    "try:\n",
    "    while True:    \n",
    "        content = input(\">>\")\n",
    "        \n",
    "        if content == \"exit\":\n",
    "            break\n",
    "        result = chain({\"content\":content})\n",
    "\n",
    "        print(result[\"text\"])\n",
    "except KeyboardInterrupt:\n",
    "    print(\"Ctrl-C pressed!\")\n",
    "    sys.exit(0)\n",
    "\n",
    "print(\"Exited prompt chat\")"
   ]
  }
 ],
 "metadata": {
  "kernelspec": {
   "display_name": ".venv",
   "language": "python",
   "name": "python3"
  },
  "language_info": {
   "codemirror_mode": {
    "name": "ipython",
    "version": 3
   },
   "file_extension": ".py",
   "mimetype": "text/x-python",
   "name": "python",
   "nbconvert_exporter": "python",
   "pygments_lexer": "ipython3",
   "version": "3.12.4"
  }
 },
 "nbformat": 4,
 "nbformat_minor": 2
}
