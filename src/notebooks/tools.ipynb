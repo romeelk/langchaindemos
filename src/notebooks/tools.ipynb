{
 "cells": [
  {
   "cell_type": "code",
   "execution_count": 1,
   "metadata": {},
   "outputs": [
    {
     "name": "stdout",
     "output_type": "stream",
     "text": [
      "Agent example\n",
      "Page: LangChain\n",
      "Summary: LangChain is a software framework that helps facilitate the integration of \n",
      "In London,GB, the current weather is as follows:\n",
      "Detailed status: overcast clouds\n",
      "Wind speed: 2.24 m/s, direction: 72°\n",
      "Humidity: 91%\n",
      "Temperature: \n",
      "  - Current: 9.94°C\n",
      "  - High: 10.97°C\n",
      "  - Low: 9.3°C\n",
      "  - Feels like: 8.94°C\n",
      "Rain: {}\n",
      "Heat index: None\n",
      "Cloud cover: 100%\n"
     ]
    }
   ],
   "source": [
    "import getpass\n",
    "import os\n",
    "from langchain_community.tools import WikipediaQueryRun\n",
    "from langchain_community.utilities import OpenWeatherMapAPIWrapper\n",
    "from langchain_community.utilities import WikipediaAPIWrapper\n",
    "from langchain_community.tools import ArxivQueryRun\n",
    "\n",
    "\n",
    "os.environ[\"OPENWEATHERMAP_API_KEY\"] = getpass.getpass(prompt=\"Enter WEATHER key:\")\n",
    "\n",
    "print(\"Tools example\")\n",
    "\n",
    "api_wrapper = WikipediaAPIWrapper(top_k_results=1, doc_content_chars_max=100)\n",
    "tool = WikipediaQueryRun(api_wrapper=api_wrapper)\n",
    "\n",
    "print(tool.invoke({\"query\": \"langchain\"}))\n",
    "\n",
    "weather_tool = OpenWeatherMapAPIWrapper()\n",
    "weather_data = weather_tool.run(\"London,GB\")\n",
    "print(weather_data)\n",
    "\n",
    "tool = ArxivQueryRun()\n",
    "print(tool.invoke('Photosynthesis')[:250])"
   ]
  }
 ],
 "metadata": {
  "kernelspec": {
   "display_name": ".venv",
   "language": "python",
   "name": "python3"
  },
  "language_info": {
   "codemirror_mode": {
    "name": "ipython",
    "version": 3
   },
   "file_extension": ".py",
   "mimetype": "text/x-python",
   "name": "python",
   "nbconvert_exporter": "python",
   "pygments_lexer": "ipython3",
   "version": "3.12.4"
  }
 },
 "nbformat": 4,
 "nbformat_minor": 2
}
