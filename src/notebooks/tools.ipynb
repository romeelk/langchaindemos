{
 "cells": [
  {
   "cell_type": "code",
   "execution_count": 1,
   "metadata": {},
   "outputs": [
    {
     "name": "stdout",
     "output_type": "stream",
     "text": [
      "Published: 2019-08-28\n",
      "Title: Photosynthesis on Exoplanets and Exomoons from Reflected Light\n",
      "Authors: Manasvi Lingam, Abraham Loeb\n",
      "Summary: Photosynthesis offers a convenient means of sustaining biospheres. We\n",
      "quantify the constraints for photosynthes\n"
     ]
    }
   ],
   "source": [
    "# run Arxiv tool\n",
    "\n",
    "from langchain_community.tools import ArxivQueryRun\n",
    "tool = ArxivQueryRun()\n",
    "print(tool.invoke('Photosynthesis')[:250])"
   ]
  }
 ],
 "metadata": {
  "kernelspec": {
   "display_name": ".venv",
   "language": "python",
   "name": "python3"
  },
  "language_info": {
   "codemirror_mode": {
    "name": "ipython",
    "version": 3
   },
   "file_extension": ".py",
   "mimetype": "text/x-python",
   "name": "python",
   "nbconvert_exporter": "python",
   "pygments_lexer": "ipython3",
   "version": "3.12.4"
  }
 },
 "nbformat": 4,
 "nbformat_minor": 2
}
