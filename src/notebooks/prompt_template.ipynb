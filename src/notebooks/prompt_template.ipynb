{
 "cells": [
  {
   "cell_type": "code",
   "execution_count": null,
   "metadata": {},
   "outputs": [
    {
     "name": "stdout",
     "output_type": "stream",
     "text": [
      "langchain  prompt template example\n",
      "Why did the English football team bring a ladder to the match?\n",
      "\n",
      "Because they heard the cup was at a higher level!\n",
      "Sure! Here’s a light-hearted joke:\n",
      "\n",
      "Why did the cricket team bring a ladder to the game in Pakistan?\n",
      "\n",
      "Because they heard the matches were at a higher level!\n",
      "Why did the French chef give up on his job?\n",
      "\n",
      "Because he couldn't make enough dough!\n"
     ]
    }
   ],
   "source": [
    "from langchain_core.prompts import PromptTemplate\n",
    "import os\n",
    "from langchain_openai import ChatOpenAI\n",
    "import getpass \n",
    "from langchain import LLMChain\n",
    "\n",
    "os.environ[\"OPENAI_API_KEY\"] = getpass.getpass(prompt=\"Enter OpenApi key:\")\n",
    "llm = ChatOpenAI(model=\"gpt-4o-mini\")\n",
    "print(\"langchain prompt template example\")\n",
    "template = \"Tell me a joke about {topic}.\"\n",
    "prompt_template = PromptTemplate.from_template(template)\n",
    "\n",
    "chain = LLMChain(llm=llm, prompt=prompt_template)\n",
    "\n",
    "response = chain.invoke(\n",
    "    input={'topic': 'england'}\n",
    ")\n",
    "\n",
    "print(response['text'])\n",
    "\n",
    "response = chain.invoke(input={'topic':'pakistan'})\n",
    "\n",
    "print(response['text'])\n",
    "\n",
    "formatted_prompt = prompt_template.format(topic=\"france\") \n",
    "response = chain.invoke(formatted_prompt)\n",
    "\n",
    "print(response['text'])"
   ]
  }
 ],
 "metadata": {
  "kernelspec": {
   "display_name": ".venv",
   "language": "python",
   "name": "python3"
  },
  "language_info": {
   "codemirror_mode": {
    "name": "ipython",
    "version": 3
   },
   "file_extension": ".py",
   "mimetype": "text/x-python",
   "name": "python",
   "nbconvert_exporter": "python",
   "pygments_lexer": "ipython3",
   "version": "3.12.4"
  }
 },
 "nbformat": 4,
 "nbformat_minor": 2
}
