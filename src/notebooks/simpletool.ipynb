{
 "cells": [
  {
   "cell_type": "code",
   "execution_count": 11,
   "metadata": {},
   "outputs": [
    {
     "name": "stdout",
     "output_type": "stream",
     "text": [
      "The result of adding 3 and 5 is: 8\n"
     ]
    }
   ],
   "source": [
    "from langchain_core.tools import BaseTool, Tool\n",
    "from langchain_openai import ChatOpenAI\n",
    "\n",
    "class AddNumbersTool(BaseTool):\n",
    "    name: str = \"AddNumbers\"\n",
    "    description: str =\"A tool to add two numbers\"\n",
    "\n",
    "    def _run(self, a: int, b: int) -> int:\n",
    "        return a + b\n",
    "\n",
    "# Create an instance of the tool\n",
    "tool = AddNumbersTool()\n",
    "\n",
    "# Invoke the tool\n",
    "result = tool._run(3, 5)\n",
    "print(f\"The result of adding 3 and 5 is: {result}\")\n"
   ]
  },
  {
   "cell_type": "code",
   "execution_count": 2,
   "metadata": {},
   "outputs": [
    {
     "name": "stdout",
     "output_type": "stream",
     "text": [
      "Simulating..slack. Sending message:  Hello from OpenAI!\n",
      "\n",
      "\n",
      "\u001b[1m> Entering new AgentExecutor chain...\u001b[0m\n",
      "\u001b[32;1m\u001b[1;3m\n",
      "Invoking: `send_sim_slack_message` with `{'message': 'LangChain Tool Calling Agent is a tool that allows users to make API calls to various language processing tools and services. I will send this information to the Slack app.'}`\n",
      "\n",
      "\n",
      "\u001b[0mSimulating..slack. Sending message:  LangChain Tool Calling Agent is a tool that allows users to make API calls to various language processing tools and services. I will send this information to the Slack app.\n",
      "\u001b[36;1m\u001b[1;3mMessage sent successfully\u001b[0m\u001b[32;1m\u001b[1;3mI have sent the information about LangChain Tool Calling Agent to the Slack app.\u001b[0m\n",
      "\n",
      "\u001b[1m> Finished chain.\u001b[0m\n"
     ]
    },
    {
     "data": {
      "text/plain": [
       "{'input': 'What is LangChain Tool Calling Agent? Please send it to Slack app.',\n",
       " 'output': 'I have sent the information about LangChain Tool Calling Agent to the Slack app.'}"
      ]
     },
     "execution_count": 2,
     "metadata": {},
     "output_type": "execute_result"
    }
   ],
   "source": [
    "from langchain.tools import BaseTool, StructuredTool, tool\n",
    "from langchain_openai import ChatOpenAI\n",
    "from langchain.agents import AgentExecutor, create_tool_calling_agent\n",
    "from langchain_core.prompts import ChatPromptTemplate\n",
    "import os\n",
    "import getpass\n",
    "\n",
    "os.environ[\"OPENAI_API_KEY\"] = getpass.getpass(\"Enter your OpenAI API key: \")\n",
    "\n",
    "@tool\n",
    "def send_sim_slack_message(message: str) -> str:\n",
    "    \"\"\"\n",
    "    Sends a simulated message to a Slack \n",
    "\n",
    "    Args:\n",
    "        message (str): The message to send.\n",
    "\n",
    "    Returns:\n",
    "        str: A success or error message.\n",
    "    \"\"\"\n",
    "    print(\"Simulating..slack. Sending message: \", message)\n",
    "    return \"Message sent successfully\"\n",
    "\n",
    "# Prompt for creating Tool Calling Agent\n",
    "prompt = ChatPromptTemplate.from_messages(\n",
    "    [\n",
    "        (\n",
    "            \"system\",\n",
    "            \"You are a helpful assistant.\",\n",
    "        ),\n",
    "        (\"placeholder\", \"{chat_history}\"),\n",
    "        (\"human\", \"{input}\"),\n",
    "        (\"placeholder\", \"{agent_scratchpad}\"),\n",
    "    ]\n",
    ")\n",
    "message = \"Hello from OpenAI!\"\n",
    "send_sim_slack_message.invoke({\"message\": message})\n",
    "\n",
    "tools = [send_sim_slack_message]\n",
    "\n",
    "llm = ChatOpenAI()\n",
    "#llm_with_tools = llm.bind_tools(tools)\n",
    "\n",
    "# Construct the Tool Calling Agent\n",
    "agent = create_tool_calling_agent(llm, tools, prompt)\n",
    "\n",
    "agent_executor = AgentExecutor(agent=agent, tools=tools, verbose=True)\n",
    "\n",
    "query = \"What is LangChain Tool Calling Agent? Please send it to Slack app.\"\n",
    "agent_executor.invoke({\"input\": query})"
   ]
  }
 ],
 "metadata": {
  "kernelspec": {
   "display_name": ".venv",
   "language": "python",
   "name": "python3"
  },
  "language_info": {
   "codemirror_mode": {
    "name": "ipython",
    "version": 3
   },
   "file_extension": ".py",
   "mimetype": "text/x-python",
   "name": "python",
   "nbconvert_exporter": "python",
   "pygments_lexer": "ipython3",
   "version": "3.11.9"
  }
 },
 "nbformat": 4,
 "nbformat_minor": 2
}
