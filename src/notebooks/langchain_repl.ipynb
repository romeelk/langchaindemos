{
 "cells": [
  {
   "cell_type": "code",
   "execution_count": 18,
   "metadata": {},
   "outputs": [
    {
     "name": "stdout",
     "output_type": "stream",
     "text": [
      "langchain chain using Python REPL tool to execute LLM generated python code\n",
      "LLM response-> total = sum(range(1, 1001))\n",
      "print(total)\n",
      "Executed code response 500500\n",
      "\n"
     ]
    }
   ],
   "source": [
    "import os\n",
    "import getpass\n",
    "from langchain_core.tools import Tool\n",
    "from langchain_experimental.utilities import PythonREPL\n",
    "from langchain_openai import ChatOpenAI\n",
    "from langchain_core.prompts import (\n",
    "    ChatPromptTemplate)\n",
    "\n",
    "os.environ[\"OPENAI_API_KEY\"] = getpass.getpass(prompt=\"Enter OpenApi key:\")\n",
    "from langchain_core.output_parsers import StrOutputParser\n",
    "\n",
    "llm = ChatOpenAI(model=\"gpt-4o-mini\")\n",
    "print(\"langchain chain using Python REPL tool to execute LLM generated python code\")\n",
    "\n",
    "prompt  = ChatPromptTemplate.from_messages([\n",
    "    (\"system\", \"\"\"You are a world Python code instructor. Python code should be syntactically correct and able to execute. no commands just the code. \n",
    "     Remove the Python text for the first line\"\"\"),\n",
    "    (\"user\", \"{input}\")\n",
    "])\n",
    "\n",
    "chain = prompt | llm | StrOutputParser()\n",
    "\n",
    "response = chain.invoke({\"input\": \"Write python cound to sum 1 to 1000 integers\"})\n",
    "print(f\"LLM response-> {response}\")\n",
    "python_repl = PythonREPL()\n",
    "\n",
    "# code_response = python_repl.run(\"\"\"# Sum integers from 1 to 100 \n",
    "# total_sum = sum(range(1, 101)) \n",
    "# print(\"The sum of integers from 1 to 100 is:\", total_sum)\"\"\")\n",
    "code_response = python_repl.run(response)\n",
    "print(f'Executed code response {code_response}')"
   ]
  }
 ],
 "metadata": {
  "kernelspec": {
   "display_name": ".venv",
   "language": "python",
   "name": "python3"
  },
  "language_info": {
   "codemirror_mode": {
    "name": "ipython",
    "version": 3
   },
   "file_extension": ".py",
   "mimetype": "text/x-python",
   "name": "python",
   "nbconvert_exporter": "python",
   "pygments_lexer": "ipython3",
   "version": "3.12.4"
  }
 },
 "nbformat": 4,
 "nbformat_minor": 2
}
