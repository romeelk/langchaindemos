{
 "cells": [
  {
   "cell_type": "code",
   "execution_count": null,
   "metadata": {},
   "outputs": [
    {
     "name": "stdout",
     "output_type": "stream",
     "text": [
      "Here is the translation along with the original English text:\n",
      "\n",
      "**Original English:**\n",
      "{'attractions': 'Two famous attractions in the city of Mecca are:\\n\\n1. The Kaaba (The Kaaba)\\n2. The Great Mosque (Al-Masjid al-Haram)'}\n",
      "\n",
      "**Translation in German:**\n",
      "{'attractions': 'Zwei berühmte Sehenswürdigkeiten in der Stadt Mekka sind:\\n\\n1. Die Kaaba (Die Kaaba)\\n2. Die Große Moschee (Al-Masjid al-Haram)'}\n"
     ]
    }
   ],
   "source": [
    "import os\n",
    "import getpass\n",
    "from langchain_openai import ChatOpenAI\n",
    "from langchain_core.output_parsers import StrOutputParser\n",
    "from langchain_core.prompts import ChatPromptTemplate\n",
    "#https://python.langchain.com/v0.1/docs/expression_language/get_started/\n",
    "\n",
    "os.environ[\"OPENAI_API_KEY\"] = getpass.getpass()\n",
    "model = ChatOpenAI(model=\"gpt-4o-mini\")\n",
    "\n",
    "\n",
    "# create a chain\n",
    "prompt = ChatPromptTemplate.from_template(\"Provide me 2 famous attractions for city {city} into language {language}\")\n",
    "output_parser = StrOutputParser()\n",
    "\n",
    "attraction_chain = prompt | model | {\"attractions\": output_parser}\n",
    "\n",
    "translate_prompt = ChatPromptTemplate.from_template(\"Translate {attractions} and include the original english\")\n",
    "\n",
    "composed_chain = {\"attractions\": attraction_chain} | translate_prompt | model | StrOutputParser()\n",
    "\n",
    "response = composed_chain.invoke({\"city\": \"medina\",\"language\":\"german\"})\n",
    "\n",
    "\n",
    "print(response)\n",
    "    "
   ]
  }
 ],
 "metadata": {
  "kernelspec": {
   "display_name": ".venv",
   "language": "python",
   "name": "python3"
  },
  "language_info": {
   "codemirror_mode": {
    "name": "ipython",
    "version": 3
   },
   "file_extension": ".py",
   "mimetype": "text/x-python",
   "name": "python",
   "nbconvert_exporter": "python",
   "pygments_lexer": "ipython3",
   "version": "3.12.4"
  }
 },
 "nbformat": 4,
 "nbformat_minor": 2
}
