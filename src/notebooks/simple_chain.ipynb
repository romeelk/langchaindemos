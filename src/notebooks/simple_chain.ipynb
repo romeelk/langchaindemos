{
 "cells": [
  {
   "cell_type": "code",
   "execution_count": 26,
   "metadata": {},
   "outputs": [
    {
     "name": "stdout",
     "output_type": "stream",
     "text": [
      "Here is the translation with the original English text included:\n",
      "\n",
      "```json\n",
      "{\n",
      "  \"attractions\": {\n",
      "    \"original\": \"Here are two famous attractions in the city of Medina:\\n\\n1. **The Prophet's Mosque (Al-Masjid an-Nabawi)** - This mosque is the second largest mosque in the world and an important religious center for Muslims, as it houses the tomb of the Prophet Muhammad.\\n\\n2. **The Quba Mosque** - This mosque is considered the first mosque built in Islam and is a significant place for pilgrims and visitors in Medina.\",\n",
      "    \"translated\": \"Hier sind zwei berühmte Sehenswürdigkeiten in der Stadt Medina:\\n\\n1. **Die Prophetenmoschee (Al-Masjid an-Nabawi)** - Diese Moschee ist die zweitgrößte Moschee der Welt und ein wichtiges religiöses Zentrum für Muslime, da sie die Grabstätte des Propheten Muhammad beherbergt.\\n\\n2. **Der Quba-Moschee** - Diese Moschee gilt als die erste Moschee, die im Islam erbaut wurde, und ist ein bedeutender Ort für Pilger und Besucher in Medina.\"\n",
      "  }\n",
      "}\n",
      "```\n"
     ]
    }
   ],
   "source": [
    "import os\n",
    "import getpass\n",
    "from langchain_openai import ChatOpenAI\n",
    "from langchain_core.output_parsers import StrOutputParser\n",
    "from langchain_core.prompts import ChatPromptTemplate\n",
    "#https://python.langchain.com/v0.1/docs/expression_language/get_started/\n",
    "\n",
    "os.environ[\"OPENAI_API_KEY\"] = getpass.getpass()\n",
    "model = ChatOpenAI(model=\"gpt-4o-mini\")\n",
    "\n",
    "\n",
    "# create a chain\n",
    "prompt = ChatPromptTemplate.from_template(\"Provide me 2 famous attractions for city {city} into language {language}\")\n",
    "output_parser = StrOutputParser()\n",
    "\n",
    "attraction_chain = prompt | model | {\"attractions\": output_parser}\n",
    "\n",
    "translate_prompt = ChatPromptTemplate.from_template(\"Translate {attractions} and include the original english\")\n",
    "\n",
    "composed_chain = {\"attractions\": attraction_chain} | translate_prompt | model | StrOutputParser()\n",
    "\n",
    "response = composed_chain.invoke({\"city\": \"medina\",\"language\":\"german\"})\n",
    "\n",
    "print(response)\n",
    "    "
   ]
  }
 ],
 "metadata": {
  "kernelspec": {
   "display_name": ".venv",
   "language": "python",
   "name": "python3"
  },
  "language_info": {
   "codemirror_mode": {
    "name": "ipython",
    "version": 3
   },
   "file_extension": ".py",
   "mimetype": "text/x-python",
   "name": "python",
   "nbconvert_exporter": "python",
   "pygments_lexer": "ipython3",
   "version": "3.12.4"
  }
 },
 "nbformat": 4,
 "nbformat_minor": 2
}
