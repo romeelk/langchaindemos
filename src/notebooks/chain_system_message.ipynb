{
 "cells": [
  {
   "cell_type": "code",
   "execution_count": null,
   "metadata": {},
   "outputs": [],
   "source": [
    "import getpass\n",
    "import os\n",
    "from langchain_openai import ChatOpenAI\n",
    "from langchain_core.prompts import (\n",
    "    ChatPromptTemplate\n",
    ")\n",
    "from langchain_core.output_parsers import StrOutputParser\n",
    "\n",
    "os.environ[\"OPENAI_API_KEY\"] = getpass.getpass(prompt=\"Enter OpenApi key:\")\n",
    "\n",
    "llm = ChatOpenAI(model=\"gpt-4o-mini\")\n",
    "print(\"langchain chain demo with system message\")\n",
    "\n",
    "prompt  = ChatPromptTemplate.from_messages([\n",
    "    (\"system\", \"You are a world class Python code instructor. Provide answers with example unit tests.\"),\n",
    "    (\"user\", \"{input}\")\n",
    "])\n",
    "\n",
    "chain = prompt | llm | StrOutputParser()\n",
    "\n",
    "response = chain.invoke({\"input\": \"Write me a python function to calculate first 100 prime numbers\"})\n",
    "\n",
    "print(response)"
   ]
  },
  {
   "cell_type": "code",
   "execution_count": null,
   "metadata": {},
   "outputs": [],
   "source": [
    "import getpass\n",
    "import os\n",
    "from langchain_openai import ChatOpenAI\n",
    "from langchain_core.prompts import (\n",
    "    SystemMessagePromptTemplate, HumanMessagePromptTemplate\n",
    ")\n",
    "os.environ[\"OPENAI_API_KEY\"] = getpass.getpass(prompt=\"Enter OpenApi key:\")\n",
    "from langchain_core.output_parsers import StrOutputParser\n",
    "\n",
    "llm = ChatOpenAI(model=\"gpt-4o-mini\")\n",
    "\n",
    "\n",
    "system_template = \"You are a world Python code instructor. Provide answers with example unit tests.\"\n",
    "system_message_prompt_template = SystemMessagePromptTemplate.from_template(\n",
    "    system_template)\n",
    "    \n",
    "human_message_prompt_template = HumanMessagePromptTemplate.from_template(\"Write me code to make a http request to a web page\")\n",
    "final_prompt = ChatPromptTemplate.from_messages(\n",
    "    [system_message_prompt_template, human_message_prompt_template]).format_prompt()\n",
    "\n",
    "# generate the output by calling ChatGPT model and passing the prompt\n",
    "completion = llm(final_prompt)\n",
    "print(completion.content)"
   ]
  },
  {
   "cell_type": "code",
   "execution_count": null,
   "metadata": {},
   "outputs": [],
   "source": [
    "import getpass\n",
    "import os\n",
    "from langchain_openai import ChatOpenAI\n",
    "from langchain_core.prompts import (\n",
    "    SystemMessagePromptTemplate, HumanMessagePromptTemplate, ChatPromptTemplate\n",
    ")\n",
    "os.environ[\"OPENAI_API_KEY\"] = getpass.getpass(prompt=\"Enter OpenApi key:\")\n",
    "from langchain_core.output_parsers import StrOutputParser\n",
    "\n",
    "llm = ChatOpenAI(model=\"gpt-4o-mini\",temperature=0.9)\n",
    "\n",
    "\n",
    "system_template = \"You are a world Python code instructor. Provide answers with full code of unit tests.\"\n",
    "system_message_prompt_template = SystemMessagePromptTemplate.from_template(\n",
    "    system_template)\n",
    "\n",
    "human_template = \"{sample_code_request}\"\n",
    "human_message_prompt_template = HumanMessagePromptTemplate.from_template(human_template)\n",
    "chat_prompt_template = ChatPromptTemplate.from_messages(\n",
    "    [system_message_prompt_template, human_message_prompt_template])\n",
    "final_prompt = chat_prompt_template.format_prompt(sample_code_request=\"Write me code to make a http request to a web page\").to_messages()\n",
    "\n",
    "# generate the output by calling ChatGPT model and passing the prompt\n",
    "completion = llm(final_prompt)\n",
    "print(completion.content)"
   ]
  }
 ],
 "metadata": {
  "kernelspec": {
   "display_name": ".venv",
   "language": "python",
   "name": "python3"
  },
  "language_info": {
   "codemirror_mode": {
    "name": "ipython",
    "version": 3
   },
   "file_extension": ".py",
   "mimetype": "text/x-python",
   "name": "python",
   "nbconvert_exporter": "python",
   "pygments_lexer": "ipython3",
   "version": "3.12.4"
  }
 },
 "nbformat": 4,
 "nbformat_minor": 2
}
