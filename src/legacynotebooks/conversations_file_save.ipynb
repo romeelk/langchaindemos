{
 "cells": [
  {
   "cell_type": "code",
   "execution_count": null,
   "metadata": {},
   "outputs": [
    {
     "name": "stderr",
     "output_type": "stream",
     "text": [
      "/var/folders/80/965xts3n22bbbvj7_147hmkh0000gn/T/ipykernel_58405/3057368257.py:14: LangChainDeprecationWarning: Please see the migration guide at: https://python.langchain.com/docs/versions/migrating_memory/\n",
      "  memory = ConversationBufferMemory(chat_memory=FileChatMessageHistory(\"chat_history.json\"),memory_key=\"messages\",return_messages=True)\n",
      "/var/folders/80/965xts3n22bbbvj7_147hmkh0000gn/T/ipykernel_58405/3057368257.py:22: LangChainDeprecationWarning: The class `LLMChain` was deprecated in LangChain 0.1.17 and will be removed in 1.0. Use :meth:`~RunnableSequence, e.g., `prompt | llm`` instead.\n",
      "  chain = LLMChain(llm=llm,prompt=prompt,memory=memory)\n",
      "/var/folders/80/965xts3n22bbbvj7_147hmkh0000gn/T/ipykernel_58405/3057368257.py:30: LangChainDeprecationWarning: The method `Chain.__call__` was deprecated in langchain 0.1.0 and will be removed in 1.0. Use :meth:`~invoke` instead.\n",
      "  result = chain({\"content\":content})\n"
     ]
    },
    {
     "name": "stdout",
     "output_type": "stream",
     "text": [
      "Hello! How can I assist you today?\n",
      "As of my last update in October 2023, Google Gemini is an AI model developed by Google DeepMind, designed to compete with other leading AI systems, such as OpenAI's ChatGPT and similar models. Gemini aims to enhance various applications, including search, image generation, and more, by leveraging advanced natural language processing and understanding capabilities.\n",
      "\n",
      "Key features of Google Gemini include:\n",
      "\n",
      "1. **Multimodal Capabilities**: Gemini is designed to handle multiple types of data, including text and images, allowing it to generate responses and insights based on diverse inputs.\n",
      "\n",
      "2. **Integration with Google Services**: Gemini is expected to be integrated into various Google products, enhancing tools like Google Search, Google Assistant, and other applications with more sophisticated AI capabilities.\n",
      "\n",
      "3. **Focus on Safety and Ethics**: Google has emphasized the importance of ethical AI development, and Gemini is likely to include measures to address concerns related to bias, misinformation, and user privacy.\n",
      "\n",
      "4. **Competitiveness**: Gemini aims to position Google as a leader in the AI space, competing directly with other major players in the industry by providing advanced AI solutions that can be applied across different sectors.\n",
      "\n",
      "For the most current information, I recommend checking Google's official announcements or trusted tech news sources, as developments in AI are rapidly evolving.\n"
     ]
    }
   ],
   "source": [
    "import sys\n",
    "from langchain.memory import ConversationBufferMemory, FileChatMessageHistory\n",
    "from langchain_openai import ChatOpenAI\n",
    "from langchain_core.prompts import (\n",
    "    ChatPromptTemplate\n",
    ")\n",
    "from langchain import LLMChain\n",
    "from langchain.prompts import MessagesPlaceholder, HumanMessagePromptTemplate\n",
    "import os\n",
    "import getpass\n",
    "os.environ[\"OPENAI_API_KEY\"] = getpass.getpass(prompt=\"Enter OpenApi key:\")\n",
    "\n",
    "llm = ChatOpenAI(model=\"gpt-4o-mini\")\n",
    "memory = ConversationBufferMemory(chat_memory=FileChatMessageHistory(\"chat_history.json\"),memory_key=\"messages\",return_messages=True)\n",
    "prompt = ChatPromptTemplate(\n",
    "    input_variables=[\"content\",\"messages\"],\n",
    "    messages=[\n",
    "        MessagesPlaceholder(variable_name=\"messages\"),\n",
    "        HumanMessagePromptTemplate.from_template(\"{content}\")])\n",
    "\n",
    "\n",
    "chain = LLMChain(llm=llm,prompt=prompt,memory=memory)\n",
    "\n",
    "try:\n",
    "    while True:    \n",
    "        content = input(\">>\")\n",
    "        \n",
    "        if content == \"exit\":\n",
    "            break\n",
    "        result = chain({\"content\":content})\n",
    "\n",
    "        print(result[\"text\"])\n",
    "except KeyboardInterrupt:\n",
    "    print(\"Ctrl-C pressed!\")\n",
    "    sys.exit(0)\n",
    "\n",
    "print(\"Exited prompt chat\")"
   ]
  }
 ],
 "metadata": {
  "kernelspec": {
   "display_name": ".venv",
   "language": "python",
   "name": "python3"
  },
  "language_info": {
   "codemirror_mode": {
    "name": "ipython",
    "version": 3
   },
   "file_extension": ".py",
   "mimetype": "text/x-python",
   "name": "python",
   "nbconvert_exporter": "python",
   "pygments_lexer": "ipython3",
   "version": "3.12.4"
  }
 },
 "nbformat": 4,
 "nbformat_minor": 2
}
